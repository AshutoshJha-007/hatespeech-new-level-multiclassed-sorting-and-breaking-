{
  "nbformat": 4,
  "nbformat_minor": 0,
  "metadata": {
    "colab": {
      "provenance": [],
      "authorship_tag": "ABX9TyPWG3UwGsImVr99JngH6Xbz",
      "include_colab_link": true
    },
    "kernelspec": {
      "name": "python3",
      "display_name": "Python 3"
    },
    "language_info": {
      "name": "python"
    }
  },
  "cells": [
    {
      "cell_type": "markdown",
      "metadata": {
        "id": "view-in-github",
        "colab_type": "text"
      },
      "source": [
        "<a href=\"https://colab.research.google.com/github/AshutoshJha-007/hatespeech-new-level-multiclassed-sorting-and-breaking-/blob/main/Untitled11.ipynb\" target=\"_parent\"><img src=\"https://colab.research.google.com/assets/colab-badge.svg\" alt=\"Open In Colab\"/></a>"
      ]
    },
    {
      "cell_type": "code",
      "source": [
        "import matplotlib.pyplot as plt\n",
        "import numpy as np\n",
        "import pandas as pd\n",
        "import re"
      ],
      "metadata": {
        "id": "OtXsVOWtIFl3"
      },
      "execution_count": 40,
      "outputs": []
    },
    {
      "cell_type": "code",
      "execution_count": 53,
      "metadata": {
        "id": "lWuyKvzLHXyG"
      },
      "outputs": [],
      "source": [
        "hin_df = pd.read_excel('/content/new sliced hindi update.xlsx')"
      ]
    },
    {
      "cell_type": "code",
      "source": [
        "hin_text_col_name = 'text'\n",
        "hin_label_col_name = 'label'\n",
        "hin_non_hate_col_name = 'not-hate'\n"
      ],
      "metadata": {
        "id": "bJ0zu26jIJev"
      },
      "execution_count": 54,
      "outputs": []
    },
    {
      "cell_type": "code",
      "source": [
        "print(\"Total number of hindi texts: \", hin_df[hin_text_col_name].count())"
      ],
      "metadata": {
        "colab": {
          "base_uri": "https://localhost:8080/"
        },
        "id": "6sPUDsYpIN6-",
        "outputId": "c964537f-178b-46e9-f7f3-bebb4bd8a60e"
      },
      "execution_count": 56,
      "outputs": [
        {
          "output_type": "stream",
          "name": "stdout",
          "text": [
            "Total number of hindi texts:  10895\n"
          ]
        }
      ]
    },
    {
      "cell_type": "code",
      "source": [
        "print('# of Hindi texts with no labels: ')\n",
        "hin_df[hin_df[hin_label_col_name].apply(lambda x: type(x) == float)][hin_text_col_name].count()\n",
        "# hin_df[hin_df.drop([hin_text_col_name, hin_label_col_name], axis=1).sum(axis=1) == 0]\n"
      ],
      "metadata": {
        "colab": {
          "base_uri": "https://localhost:8080/"
        },
        "id": "v_fZDnnzIWrw",
        "outputId": "b57ac7b3-8a40-4f6f-ad1a-23428c625f69"
      },
      "execution_count": 57,
      "outputs": [
        {
          "output_type": "stream",
          "name": "stdout",
          "text": [
            "# of Hindi texts with no labels: \n"
          ]
        },
        {
          "output_type": "execute_result",
          "data": {
            "text/plain": [
              "0"
            ]
          },
          "metadata": {},
          "execution_count": 57
        }
      ]
    },
    {
      "cell_type": "code",
      "source": [
        "print(\"Hindi dataset is multi-label.\")\n",
        "hin_df_class_count = hin_df.drop([hin_text_col_name, hin_label_col_name], axis=1).sum(axis=0)\n",
        "hin_df_class_count"
      ],
      "metadata": {
        "colab": {
          "base_uri": "https://localhost:8080/"
        },
        "id": "RZ6WVCngIidf",
        "outputId": "a3591ee6-7305-484e-8574-240c669992e1"
      },
      "execution_count": 58,
      "outputs": [
        {
          "output_type": "stream",
          "name": "stdout",
          "text": [
            "Hindi dataset is multi-label.\n"
          ]
        },
        {
          "output_type": "execute_result",
          "data": {
            "text/plain": [
              "defamation    3215\n",
              "hate          5511\n",
              "non-hate      4523\n",
              "violence      4110\n",
              "vulgar        2008\n",
              "dtype: int64"
            ]
          },
          "metadata": {},
          "execution_count": 58
        }
      ]
    },
    {
      "cell_type": "code",
      "source": [
        "plt.figure(figsize=(12, 5))\n",
        "plt.bar(hin_df_class_count.index, hin_df_class_count.values)\n",
        "for i in range(len(hin_df_class_count.index)):\n",
        "    plt.annotate(\n",
        "        str(hin_df_class_count.values[i]),\n",
        "        (\n",
        "            hin_df_class_count.index[i],\n",
        "            hin_df_class_count.values[i]\n",
        "        )\n",
        "    )\n",
        "plt.xlabel('Classes')\n",
        "plt.ylabel('# of Texts')\n",
        "plt.title('Hindi Text Classes and Their Frequencies')"
      ],
      "metadata": {
        "colab": {
          "base_uri": "https://localhost:8080/",
          "height": 471
        },
        "id": "4gveCmAtIsS2",
        "outputId": "80260ae1-fa23-4a4f-ebd7-5a4a5960bd2a"
      },
      "execution_count": 59,
      "outputs": [
        {
          "output_type": "execute_result",
          "data": {
            "text/plain": [
              "Text(0.5, 1.0, 'Hindi Text Classes and Their Frequencies')"
            ]
          },
          "metadata": {},
          "execution_count": 59
        },
        {
          "output_type": "display_data",
          "data": {
            "text/plain": [
              "<Figure size 1200x500 with 1 Axes>"
            ],
            "image/png": "[encoded data removed]"
          },
          "metadata": {}
        }
      ]
    },
    {
      "cell_type": "code",
      "source": [
        "hin_text_len = hin_df[hin_text_col_name].apply(lambda x: len(str(x).split(' '))).value_counts()\n",
        "hin_text_min_len = hin_text_len.index.min()\n",
        "hin_text_max_len = hin_text_len.index.max()\n",
        "print(\"Min hindi text length: \", hin_text_min_len)\n",
        "print(\"Max hindi text length: \", hin_text_max_len)"
      ],
      "metadata": {
        "colab": {
          "base_uri": "https://localhost:8080/"
        },
        "id": "oNPMBr1BJFLR",
        "outputId": "f99d69fa-b99d-425e-c8ee-de51f24b6b09"
      },
      "execution_count": 60,
      "outputs": [
        {
          "output_type": "stream",
          "name": "stdout",
          "text": [
            "Min hindi text length:  3\n",
            "Max hindi text length:  138\n"
          ]
        }
      ]
    },
    {
      "cell_type": "code",
      "source": [
        "plt.figure(figsize=(12, 5))\n",
        "plt.bar(hin_text_len.index, hin_text_len.values)\n",
        "plt.xlabel('Text Length')\n",
        "plt.ylabel('# of Texts')\n",
        "# plt.xticks([x for x in range(0, hin_text_max_len+1, 200)])\n",
        "plt.tick_params(bottom=False)\n",
        "plt.title('Hindi Text Lengths and Their Frequencies')\n"
      ],
      "metadata": {
        "colab": {
          "base_uri": "https://localhost:8080/",
          "height": 474
        },
        "id": "nkWBAabZJKCA",
        "outputId": "eba3b27f-c636-4167-f4f2-aae76a9ce3fe"
      },
      "execution_count": 61,
      "outputs": [
        {
          "output_type": "execute_result",
          "data": {
            "text/plain": [
              "Text(0.5, 1.0, 'Hindi Text Lengths and Their Frequencies')"
            ]
          },
          "metadata": {},
          "execution_count": 61
        },
        {
          "output_type": "display_data",
          "data": {
            "text/plain": [
              "<Figure size 1200x500 with 1 Axes>"
            ],
            "image/png": "[encoded data removed]"
          },
          "metadata": {}
        }
      ]
    },
    {
      "cell_type": "code",
      "source": [
        "print('Hindi comments that are missing:')\n",
        "hin_df[hin_df[hin_text_col_name].apply(lambda x: type(x) != str)][hin_text_col_name].count()\n"
      ],
      "metadata": {
        "colab": {
          "base_uri": "https://localhost:8080/"
        },
        "id": "gIa8ZrICJNrI",
        "outputId": "fd3f3af4-7b8e-49ff-eb81-6e427a92c137"
      },
      "execution_count": 62,
      "outputs": [
        {
          "output_type": "stream",
          "name": "stdout",
          "text": [
            "Hindi comments that are missing:\n"
          ]
        },
        {
          "output_type": "execute_result",
          "data": {
            "text/plain": [
              "0"
            ]
          },
          "metadata": {},
          "execution_count": 62
        }
      ]
    },
    {
      "cell_type": "code",
      "source": [
        "print('# of Hindi Comments with English text:')\n",
        "hin_df[hin_text_col_name][hin_df[hin_text_col_name].apply(lambda x: re.search('[a-zA-Z]', x) != None)].count()"
      ],
      "metadata": {
        "colab": {
          "base_uri": "https://localhost:8080/"
        },
        "id": "guPalFyRJQNP",
        "outputId": "8de1fcc6-6421-4baf-b181-267770c451f2"
      },
      "execution_count": 63,
      "outputs": [
        {
          "output_type": "stream",
          "name": "stdout",
          "text": [
            "# of Hindi Comments with English text:\n"
          ]
        },
        {
          "output_type": "execute_result",
          "data": {
            "text/plain": [
              "0"
            ]
          },
          "metadata": {},
          "execution_count": 63
        }
      ]
    },
    {
      "cell_type": "code",
      "source": [
        "# prompt: print text the Min hindi text length:  1\n",
        "\n",
        "print(hin_df[hin_text_col_name][hin_df[hin_text_col_name].apply(lambda x: len(str(x).split(' ')) == 5)].head())\n"
      ],
      "metadata": {
        "colab": {
          "base_uri": "https://localhost:8080/"
        },
        "id": "-zSDxczOJb0f",
        "outputId": "8a77d0c2-1bcc-4a9c-bc77-7f99d98eeef8"
      },
      "execution_count": 67,
      "outputs": [
        {
          "output_type": "stream",
          "name": "stdout",
          "text": [
            "9           उनके चिकित्सक एक दलित है.\n",
            "45     मुझे पाकिस्तानियों से नरफत है.\n",
            "57      सभी हिजड़े प्रतिकारक होते हैं.\n",
            "92            मुझे कोई नहीं छोड़ सकता.\n",
            "128       हिजड़े हमारे ऊपर परजीवी हैं.\n",
            "Name: text, dtype: object\n"
          ]
        }
      ]
    }
  ]
}