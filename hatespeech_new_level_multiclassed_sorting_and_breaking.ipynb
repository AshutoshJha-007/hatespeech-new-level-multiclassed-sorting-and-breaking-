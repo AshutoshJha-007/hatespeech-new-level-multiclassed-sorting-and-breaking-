{
  "nbformat": 4,
  "nbformat_minor": 0,
  "metadata": {
    "colab": {
      "provenance": [],
      "authorship_tag": "ABX9TyO/NQT07MRdeY/C2q+gA5Ev",
      "include_colab_link": true
    },
    "kernelspec": {
      "name": "python3",
      "display_name": "Python 3"
    },
    "language_info": {
      "name": "python"
    }
  },
  "cells": [
    {
      "cell_type": "markdown",
      "metadata": {
        "id": "view-in-github",
        "colab_type": "text"
      },
      "source": [
        "<a href=\"https://colab.research.google.com/github/AshutoshJha-007/hatespeech-new-level-multiclassed-sorting-and-breaking-/blob/main/hatespeech_new_level_multiclassed_sorting_and_breaking.ipynb\" target=\"_parent\"><img src=\"https://colab.research.google.com/assets/colab-badge.svg\" alt=\"Open In Colab\"/></a>"
      ]
    },
    {
      "cell_type": "code",
      "source": [
        "import re"
      ],
      "metadata": {
        "id": "PJAUWR44J2yS"
      },
      "execution_count": 1,
      "outputs": []
    },
    {
      "cell_type": "code",
      "source": [
        "!pip install matplotlib\n",
        "import matplotlib.pyplot as plt"
      ],
      "metadata": {
        "id": "efHiBI9lIKxj",
        "colab": {
          "base_uri": "https://localhost:8080/"
        },
        "outputId": "5fed3af3-cafc-44ac-f58f-e8147f2adefc",
        "collapsed": true
      },
      "execution_count": 2,
      "outputs": [
        {
          "output_type": "stream",
          "name": "stdout",
          "text": [
            "Requirement already satisfied: matplotlib in /usr/local/lib/python3.10/dist-packages (3.7.1)\n",
            "Requirement already satisfied: contourpy>=1.0.1 in /usr/local/lib/python3.10/dist-packages (from matplotlib) (1.2.1)\n",
            "Requirement already satisfied: cycler>=0.10 in /usr/local/lib/python3.10/dist-packages (from matplotlib) (0.12.1)\n",
            "Requirement already satisfied: fonttools>=4.22.0 in /usr/local/lib/python3.10/dist-packages (from matplotlib) (4.51.0)\n",
            "Requirement already satisfied: kiwisolver>=1.0.1 in /usr/local/lib/python3.10/dist-packages (from matplotlib) (1.4.5)\n",
            "Requirement already satisfied: numpy>=1.20 in /usr/local/lib/python3.10/dist-packages (from matplotlib) (1.25.2)\n",
            "Requirement already satisfied: packaging>=20.0 in /usr/local/lib/python3.10/dist-packages (from matplotlib) (24.0)\n",
            "Requirement already satisfied: pillow>=6.2.0 in /usr/local/lib/python3.10/dist-packages (from matplotlib) (9.4.0)\n",
            "Requirement already satisfied: pyparsing>=2.3.1 in /usr/local/lib/python3.10/dist-packages (from matplotlib) (3.1.2)\n",
            "Requirement already satisfied: python-dateutil>=2.7 in /usr/local/lib/python3.10/dist-packages (from matplotlib) (2.8.2)\n",
            "Requirement already satisfied: six>=1.5 in /usr/local/lib/python3.10/dist-packages (from python-dateutil>=2.7->matplotlib) (1.16.0)\n"
          ]
        }
      ]
    },
    {
      "cell_type": "code",
      "source": [
        "!pip install pandas\n",
        "import pandas as pd"
      ],
      "metadata": {
        "id": "jO-zvq9JCKfj",
        "colab": {
          "base_uri": "https://localhost:8080/"
        },
        "outputId": "79912bd3-3c3d-4a7f-9486-c09602eab05d",
        "collapsed": true
      },
      "execution_count": 3,
      "outputs": [
        {
          "output_type": "stream",
          "name": "stdout",
          "text": [
            "Requirement already satisfied: pandas in /usr/local/lib/python3.10/dist-packages (2.0.3)\n",
            "Requirement already satisfied: python-dateutil>=2.8.2 in /usr/local/lib/python3.10/dist-packages (from pandas) (2.8.2)\n",
            "Requirement already satisfied: pytz>=2020.1 in /usr/local/lib/python3.10/dist-packages (from pandas) (2023.4)\n",
            "Requirement already satisfied: tzdata>=2022.1 in /usr/local/lib/python3.10/dist-packages (from pandas) (2024.1)\n",
            "Requirement already satisfied: numpy>=1.21.0 in /usr/local/lib/python3.10/dist-packages (from pandas) (1.25.2)\n",
            "Requirement already satisfied: six>=1.5 in /usr/local/lib/python3.10/dist-packages (from python-dateutil>=2.8.2->pandas) (1.16.0)\n"
          ]
        }
      ]
    },
    {
      "cell_type": "code",
      "execution_count": 75,
      "metadata": {
        "id": "oiPXZ-g_BhKt"
      },
      "outputs": [],
      "source": [
        "hin_df = pd.read_excel('/content/new sliced update.xlsx')"
      ]
    },
    {
      "cell_type": "code",
      "source": [
        "print(hin_df.columns.tolist())"
      ],
      "metadata": {
        "colab": {
          "base_uri": "https://localhost:8080/"
        },
        "id": "-Emt4_XkCbg6",
        "outputId": "e4d11b09-4e62-4403-d395-a2a6d85e1d04"
      },
      "execution_count": 77,
      "outputs": [
        {
          "output_type": "stream",
          "name": "stdout",
          "text": [
            "['text', 'label', 'hate', 'aggression', 'non hostile', 'vulgar', 'defamation']\n"
          ]
        }
      ]
    },
    {
      "cell_type": "code",
      "source": [
        "print(\"Total number of hindi texts: \", hin_df['text'].count())\n"
      ],
      "metadata": {
        "colab": {
          "base_uri": "https://localhost:8080/"
        },
        "id": "NVYUHwlyCD50",
        "outputId": "86cab70a-38aa-4df4-adc2-e10ed7bfe1c1"
      },
      "execution_count": 78,
      "outputs": [
        {
          "output_type": "stream",
          "name": "stdout",
          "text": [
            "Total number of hindi texts:  10913\n"
          ]
        }
      ]
    },
    {
      "cell_type": "code",
      "source": [
        "hin_df[hin_df.drop(['text', 'label'], axis=1).sum(axis=1) == 0]"
      ],
      "metadata": {
        "colab": {
          "base_uri": "https://localhost:8080/",
          "height": 53
        },
        "id": "AEbkToxhHbKT",
        "outputId": "25b56aaf-dde0-4162-aa77-222266d9bf59"
      },
      "execution_count": 79,
      "outputs": [
        {
          "output_type": "execute_result",
          "data": {
            "text/plain": [
              "Empty DataFrame\n",
              "Columns: [text, label, hate, aggression, non hostile, vulgar, defamation]\n",
              "Index: []"
            ],
            "text/html": [
              "\n",
              "  <div id=\"df-c4d6a183-43ea-4eba-a83c-9e2573ca9fe8\" class=\"colab-df-container\">\n",
              "    <div>\n",
              "<style scoped>\n",
              "    .dataframe tbody tr th:only-of-type {\n",
              "        vertical-align: middle;\n",
              "    }\n",
              "\n",
              "    .dataframe tbody tr th {\n",
              "        vertical-align: top;\n",
              "    }\n",
              "\n",
              "    .dataframe thead th {\n",
              "        text-align: right;\n",
              "    }\n",
              "</style>\n",
              "<table border=\"1\" class=\"dataframe\">\n",
              "  <thead>\n",
              "    <tr style=\"text-align: right;\">\n",
              "      <th></th>\n",
              "      <th>text</th>\n",
              "      <th>label</th>\n",
              "      <th>hate</th>\n",
              "      <th>aggression</th>\n",
              "      <th>non hostile</th>\n",
              "      <th>vulgar</th>\n",
              "      <th>defamation</th>\n",
              "    </tr>\n",
              "  </thead>\n",
              "  <tbody>\n",
              "  </tbody>\n",
              "</table>\n",
              "</div>\n",
              "    <div class=\"colab-df-buttons\">\n",
              "\n",
              "  <div class=\"colab-df-container\">\n",
              "    <button class=\"colab-df-convert\" onclick=\"convertToInteractive('df-c4d6a183-43ea-4eba-a83c-9e2573ca9fe8')\"\n",
              "            title=\"Convert this dataframe to an interactive table.\"\n",
              "            style=\"display:none;\">\n",
              "\n",
              "  <svg xmlns=\"http://www.w3.org/2000/svg\" height=\"24px\" viewBox=\"0 -960 960 960\">\n",
              "    <path d=\"M120-120v-720h720v720H120Zm60-500h600v-160H180v160Zm220 220h160v-160H400v160Zm0 220h160v-160H400v160ZM180-400h160v-160H180v160Zm440 0h160v-160H620v160ZM180-180h160v-160H180v160Zm440 0h160v-160H620v160Z\"/>\n",
              "  </svg>\n",
              "    </button>\n",
              "\n",
              "  <style>\n",
              "    .colab-df-container {\n",
              "      display:flex;\n",
              "      gap: 12px;\n",
              "    }\n",
              "\n",
              "    .colab-df-convert {\n",
              "      background-color: #E8F0FE;\n",
              "      border: none;\n",
              "      border-radius: 50%;\n",
              "      cursor: pointer;\n",
              "      display: none;\n",
              "      fill: #1967D2;\n",
              "      height: 32px;\n",
              "      padding: 0 0 0 0;\n",
              "      width: 32px;\n",
              "    }\n",
              "\n",
              "    .colab-df-convert:hover {\n",
              "      background-color: #E2EBFA;\n",
              "      box-shadow: 0px 1px 2px rgba(60, 64, 67, 0.3), 0px 1px 3px 1px rgba(60, 64, 67, 0.15);\n",
              "      fill: #174EA6;\n",
              "    }\n",
              "\n",
              "    .colab-df-buttons div {\n",
              "      margin-bottom: 4px;\n",
              "    }\n",
              "\n",
              "    [theme=dark] .colab-df-convert {\n",
              "      background-color: #3B4455;\n",
              "      fill: #D2E3FC;\n",
              "    }\n",
              "\n",
              "    [theme=dark] .colab-df-convert:hover {\n",
              "      background-color: #434B5C;\n",
              "      box-shadow: 0px 1px 3px 1px rgba(0, 0, 0, 0.15);\n",
              "      filter: drop-shadow(0px 1px 2px rgba(0, 0, 0, 0.3));\n",
              "      fill: #FFFFFF;\n",
              "    }\n",
              "  </style>\n",
              "\n",
              "    <script>\n",
              "      const buttonEl =\n",
              "        document.querySelector('#df-c4d6a183-43ea-4eba-a83c-9e2573ca9fe8 button.colab-df-convert');\n",
              "      buttonEl.style.display =\n",
              "        google.colab.kernel.accessAllowed ? 'block' : 'none';\n",
              "\n",
              "      async function convertToInteractive(key) {\n",
              "        const element = document.querySelector('#df-c4d6a183-43ea-4eba-a83c-9e2573ca9fe8');\n",
              "        const dataTable =\n",
              "          await google.colab.kernel.invokeFunction('convertToInteractive',\n",
              "                                                    [key], {});\n",
              "        if (!dataTable) return;\n",
              "\n",
              "        const docLinkHtml = 'Like what you see? Visit the ' +\n",
              "          '<a target=\"_blank\" href=https://colab.research.google.com/notebooks/data_table.ipynb>data table notebook</a>'\n",
              "          + ' to learn more about interactive tables.';\n",
              "        element.innerHTML = '';\n",
              "        dataTable['output_type'] = 'display_data';\n",
              "        await google.colab.output.renderOutput(dataTable, element);\n",
              "        const docLink = document.createElement('div');\n",
              "        docLink.innerHTML = docLinkHtml;\n",
              "        element.appendChild(docLink);\n",
              "      }\n",
              "    </script>\n",
              "  </div>\n",
              "\n",
              "\n",
              "    </div>\n",
              "  </div>\n"
            ],
            "application/vnd.google.colaboratory.intrinsic+json": {
              "type": "dataframe",
              "repr_error": "Out of range float values are not JSON compliant: nan"
            }
          },
          "metadata": {},
          "execution_count": 79
        }
      ]
    },
    {
      "cell_type": "code",
      "source": [
        "print(\"Hindi dataset is multi-label.\")\n",
        "hin_df_class_count = hin_df.drop(['text', 'label'], axis=1).sum(axis=0)\n",
        "hin_df_class_count"
      ],
      "metadata": {
        "colab": {
          "base_uri": "https://localhost:8080/"
        },
        "id": "HrD-UITzHqEZ",
        "outputId": "e6f1e450-89de-4826-d99e-ba76c9216159"
      },
      "execution_count": 80,
      "outputs": [
        {
          "output_type": "stream",
          "name": "stdout",
          "text": [
            "Hindi dataset is multi-label.\n"
          ]
        },
        {
          "output_type": "execute_result",
          "data": {
            "text/plain": [
              "hate           5527\n",
              "aggression     4125\n",
              "non hostile    4525\n",
              "vulgar         2020\n",
              "defamation     3216\n",
              "dtype: int64"
            ]
          },
          "metadata": {},
          "execution_count": 80
        }
      ]
    },
    {
      "cell_type": "code",
      "source": [
        "print('# of not-hate Hindi comments that are classified into other categories:')\n",
        "hin_df['text'][hin_df.drop(['text', 'label'], axis=1).apply(lambda x: x.sum() > 1 and x['non hostile'] == 1, axis=1)].count()\n"
      ],
      "metadata": {
        "id": "emI_M00PDF_i",
        "colab": {
          "base_uri": "https://localhost:8080/"
        },
        "outputId": "f3c2d121-6561-4d2d-f5eb-9eca5d73e3cd"
      },
      "execution_count": 81,
      "outputs": [
        {
          "output_type": "stream",
          "name": "stdout",
          "text": [
            "# of not-hate Hindi comments that are classified into other categories:\n"
          ]
        },
        {
          "output_type": "execute_result",
          "data": {
            "text/plain": [
              "0"
            ]
          },
          "metadata": {},
          "execution_count": 81
        }
      ]
    },
    {
      "cell_type": "code",
      "source": [
        "\n",
        "plt.figure(figsize=(12, 5))\n",
        "plt.bar(hin_df_class_count.index, hin_df_class_count.values)\n",
        "for i in range(len(hin_df_class_count.index)):\n",
        "  plt.annotate(\n",
        "    str(hin_df_class_count.values[i]),\n",
        "    (\n",
        "        hin_df_class_count.index[i],\n",
        "        hin_df_class_count.values[i]\n",
        "     )\n",
        "  )\n",
        "plt.xlabel('Classes')\n",
        "plt.ylabel('# of Texts')\n",
        "plt.title('Hindi Text Classes and Their Frequencies')\n"
      ],
      "metadata": {
        "colab": {
          "base_uri": "https://localhost:8080/",
          "height": 471
        },
        "id": "laIi1m8BH565",
        "outputId": "bfea4a63-75b3-43d5-8e2a-eb27dcd158f4"
      },
      "execution_count": 82,
      "outputs": [
        {
          "output_type": "execute_result",
          "data": {
            "text/plain": [
              "Text(0.5, 1.0, 'Hindi Text Classes and Their Frequencies')"
            ]
          },
          "metadata": {},
          "execution_count": 82
        },
        {
          "output_type": "display_data",
          "data": {
            "text/plain": [
              "<Figure size 1200x500 with 1 Axes>"
            ],
            "image/png": "[encoded data removed]"
          },
          "metadata": {}
        }
      ]
    },
    {
      "cell_type": "code",
      "source": [
        "hin_text_len = hin_df['text'].apply(lambda x: len(str(x))).value_counts()\n",
        "hin_text_min_len = hin_text_len.index.min()\n",
        "hin_text_max_len = hin_text_len.index.max()\n",
        "print(\"Min hindi text length: \", hin_text_min_len)\n",
        "print(\"Max hindi text length: \", hin_text_max_len)"
      ],
      "metadata": {
        "colab": {
          "base_uri": "https://localhost:8080/"
        },
        "id": "Np7p7THOJA7J",
        "outputId": "0fae340b-4a90-460e-c94a-7ce3260b23b4"
      },
      "execution_count": 83,
      "outputs": [
        {
          "output_type": "stream",
          "name": "stdout",
          "text": [
            "Min hindi text length:  8\n",
            "Max hindi text length:  656\n"
          ]
        }
      ]
    },
    {
      "cell_type": "code",
      "source": [
        "plt.figure(figsize=(12, 5))\n",
        "plt.bar(hin_text_len.index, hin_text_len.values)\n",
        "plt.xlabel('Text Length')\n",
        "plt.ylabel('# of Texts')\n",
        "plt.xticks([x for x in range(0, hin_text_max_len+1, 200)])\n",
        "plt.tick_params(bottom=False)\n",
        "plt.title('Hindi Text Lengths and Their Frequencies')\n"
      ],
      "metadata": {
        "colab": {
          "base_uri": "https://localhost:8080/",
          "height": 474
        },
        "id": "x96DKpcEJMpA",
        "outputId": "6a5c049b-5f74-495c-b6e2-872846ebda3c"
      },
      "execution_count": 84,
      "outputs": [
        {
          "output_type": "execute_result",
          "data": {
            "text/plain": [
              "Text(0.5, 1.0, 'Hindi Text Lengths and Their Frequencies')"
            ]
          },
          "metadata": {},
          "execution_count": 84
        },
        {
          "output_type": "display_data",
          "data": {
            "text/plain": [
              "<Figure size 1200x500 with 1 Axes>"
            ],
            "image/png": "[encoded data removed]"
          },
          "metadata": {}
        }
      ]
    },
    {
      "cell_type": "code",
      "source": [
        "print('Hindi comments that are missing:')\n",
        "hin_df[hin_df['text'].apply(lambda x: type(x) != str)]\n"
      ],
      "metadata": {
        "colab": {
          "base_uri": "https://localhost:8080/",
          "height": 70
        },
        "id": "YoWzzC0VJc3x",
        "outputId": "2f37075c-38f6-4946-9193-296bf4c425f6"
      },
      "execution_count": 85,
      "outputs": [
        {
          "output_type": "stream",
          "name": "stdout",
          "text": [
            "Hindi comments that are missing:\n"
          ]
        },
        {
          "output_type": "execute_result",
          "data": {
            "text/plain": [
              "Empty DataFrame\n",
              "Columns: [text, label, hate, aggression, non hostile, vulgar, defamation]\n",
              "Index: []"
            ],
            "text/html": [
              "\n",
              "  <div id=\"df-6f5f72f1-c4a1-4989-b4bc-a05581360301\" class=\"colab-df-container\">\n",
              "    <div>\n",
              "<style scoped>\n",
              "    .dataframe tbody tr th:only-of-type {\n",
              "        vertical-align: middle;\n",
              "    }\n",
              "\n",
              "    .dataframe tbody tr th {\n",
              "        vertical-align: top;\n",
              "    }\n",
              "\n",
              "    .dataframe thead th {\n",
              "        text-align: right;\n",
              "    }\n",
              "</style>\n",
              "<table border=\"1\" class=\"dataframe\">\n",
              "  <thead>\n",
              "    <tr style=\"text-align: right;\">\n",
              "      <th></th>\n",
              "      <th>text</th>\n",
              "      <th>label</th>\n",
              "      <th>hate</th>\n",
              "      <th>aggression</th>\n",
              "      <th>non hostile</th>\n",
              "      <th>vulgar</th>\n",
              "      <th>defamation</th>\n",
              "    </tr>\n",
              "  </thead>\n",
              "  <tbody>\n",
              "  </tbody>\n",
              "</table>\n",
              "</div>\n",
              "    <div class=\"colab-df-buttons\">\n",
              "\n",
              "  <div class=\"colab-df-container\">\n",
              "    <button class=\"colab-df-convert\" onclick=\"convertToInteractive('df-6f5f72f1-c4a1-4989-b4bc-a05581360301')\"\n",
              "            title=\"Convert this dataframe to an interactive table.\"\n",
              "            style=\"display:none;\">\n",
              "\n",
              "  <svg xmlns=\"http://www.w3.org/2000/svg\" height=\"24px\" viewBox=\"0 -960 960 960\">\n",
              "    <path d=\"M120-120v-720h720v720H120Zm60-500h600v-160H180v160Zm220 220h160v-160H400v160Zm0 220h160v-160H400v160ZM180-400h160v-160H180v160Zm440 0h160v-160H620v160ZM180-180h160v-160H180v160Zm440 0h160v-160H620v160Z\"/>\n",
              "  </svg>\n",
              "    </button>\n",
              "\n",
              "  <style>\n",
              "    .colab-df-container {\n",
              "      display:flex;\n",
              "      gap: 12px;\n",
              "    }\n",
              "\n",
              "    .colab-df-convert {\n",
              "      background-color: #E8F0FE;\n",
              "      border: none;\n",
              "      border-radius: 50%;\n",
              "      cursor: pointer;\n",
              "      display: none;\n",
              "      fill: #1967D2;\n",
              "      height: 32px;\n",
              "      padding: 0 0 0 0;\n",
              "      width: 32px;\n",
              "    }\n",
              "\n",
              "    .colab-df-convert:hover {\n",
              "      background-color: #E2EBFA;\n",
              "      box-shadow: 0px 1px 2px rgba(60, 64, 67, 0.3), 0px 1px 3px 1px rgba(60, 64, 67, 0.15);\n",
              "      fill: #174EA6;\n",
              "    }\n",
              "\n",
              "    .colab-df-buttons div {\n",
              "      margin-bottom: 4px;\n",
              "    }\n",
              "\n",
              "    [theme=dark] .colab-df-convert {\n",
              "      background-color: #3B4455;\n",
              "      fill: #D2E3FC;\n",
              "    }\n",
              "\n",
              "    [theme=dark] .colab-df-convert:hover {\n",
              "      background-color: #434B5C;\n",
              "      box-shadow: 0px 1px 3px 1px rgba(0, 0, 0, 0.15);\n",
              "      filter: drop-shadow(0px 1px 2px rgba(0, 0, 0, 0.3));\n",
              "      fill: #FFFFFF;\n",
              "    }\n",
              "  </style>\n",
              "\n",
              "    <script>\n",
              "      const buttonEl =\n",
              "        document.querySelector('#df-6f5f72f1-c4a1-4989-b4bc-a05581360301 button.colab-df-convert');\n",
              "      buttonEl.style.display =\n",
              "        google.colab.kernel.accessAllowed ? 'block' : 'none';\n",
              "\n",
              "      async function convertToInteractive(key) {\n",
              "        const element = document.querySelector('#df-6f5f72f1-c4a1-4989-b4bc-a05581360301');\n",
              "        const dataTable =\n",
              "          await google.colab.kernel.invokeFunction('convertToInteractive',\n",
              "                                                    [key], {});\n",
              "        if (!dataTable) return;\n",
              "\n",
              "        const docLinkHtml = 'Like what you see? Visit the ' +\n",
              "          '<a target=\"_blank\" href=https://colab.research.google.com/notebooks/data_table.ipynb>data table notebook</a>'\n",
              "          + ' to learn more about interactive tables.';\n",
              "        element.innerHTML = '';\n",
              "        dataTable['output_type'] = 'display_data';\n",
              "        await google.colab.output.renderOutput(dataTable, element);\n",
              "        const docLink = document.createElement('div');\n",
              "        docLink.innerHTML = docLinkHtml;\n",
              "        element.appendChild(docLink);\n",
              "      }\n",
              "    </script>\n",
              "  </div>\n",
              "\n",
              "\n",
              "    </div>\n",
              "  </div>\n"
            ],
            "application/vnd.google.colaboratory.intrinsic+json": {
              "type": "dataframe",
              "repr_error": "Out of range float values are not JSON compliant: nan"
            }
          },
          "metadata": {},
          "execution_count": 85
        }
      ]
    },
    {
      "cell_type": "code",
      "source": [
        "print('# of Hindi Comments with English text:')\n",
        "hin_df['text'][hin_df['text'].apply(lambda x: re.search('[a-zA-Z]', x) != None)].count()"
      ],
      "metadata": {
        "colab": {
          "base_uri": "https://localhost:8080/"
        },
        "id": "VnQfZ0ZIJj9r",
        "outputId": "b9a6b5c6-d6f8-430b-9232-cd70dbdb71f3"
      },
      "execution_count": 86,
      "outputs": [
        {
          "output_type": "stream",
          "name": "stdout",
          "text": [
            "# of Hindi Comments with English text:\n"
          ]
        },
        {
          "output_type": "execute_result",
          "data": {
            "text/plain": [
              "0"
            ]
          },
          "metadata": {},
          "execution_count": 86
        }
      ]
    },
    {
      "cell_type": "code",
      "source": [
        "# prompt: remove english words from previous index list\n",
        "\n",
        "english_indexes = list(hin_df['text'][hin_df['text'].apply(lambda x: re.search('[a-zA-Z]', x) != None)].index)\n",
        "hin_df = hin_df.drop(english_indexes)\n"
      ],
      "metadata": {
        "id": "AKw0e2IDLK6g"
      },
      "execution_count": 87,
      "outputs": []
    },
    {
      "cell_type": "code",
      "source": [
        "print('# of Hindi Comments with English text:')\n",
        "hin_df['text'][hin_df['text'].apply(lambda x: re.search('[a-zA-Z]', x) != None)].count()\n"
      ],
      "metadata": {
        "id": "drPSh3QhnObB",
        "outputId": "cbe88d8e-dcdc-4d61-a437-278d463a8d97",
        "colab": {
          "base_uri": "https://localhost:8080/"
        }
      },
      "execution_count": 88,
      "outputs": [
        {
          "output_type": "stream",
          "name": "stdout",
          "text": [
            "# of Hindi Comments with English text:\n"
          ]
        },
        {
          "output_type": "execute_result",
          "data": {
            "text/plain": [
              "0"
            ]
          },
          "metadata": {},
          "execution_count": 88
        }
      ]
    },
    {
      "cell_type": "code",
      "source": [
        "# prompt: now save the updated csv\n",
        "\n",
        "hin_df.to_excel('english removed data.xlsx', index=False)"
      ],
      "metadata": {
        "id": "avWBCyuwmMoM"
      },
      "execution_count": 89,
      "outputs": []
    },
    {
      "cell_type": "code",
      "source": [
        "# prompt: now load the new dataset\n",
        "\n",
        "hin_df = pd.read_excel('/content/english removed data.xlsx')"
      ],
      "metadata": {
        "id": "kEFcdizBQKQO"
      },
      "execution_count": 90,
      "outputs": []
    },
    {
      "cell_type": "code",
      "source": [
        "print(\"Hindi dataset is multi-label.\")\n",
        "hin_df_class_count = hin_df.drop(['text', 'label'], axis=1).sum(axis=0)\n",
        "hin_df_class_count"
      ],
      "metadata": {
        "colab": {
          "base_uri": "https://localhost:8080/"
        },
        "id": "8sbbmavP1PgO",
        "outputId": "6f5898ae-18c2-4b06-dedd-39a3e3b62a17"
      },
      "execution_count": 91,
      "outputs": [
        {
          "output_type": "stream",
          "name": "stdout",
          "text": [
            "Hindi dataset is multi-label.\n"
          ]
        },
        {
          "output_type": "execute_result",
          "data": {
            "text/plain": [
              "hate           5527\n",
              "aggression     4125\n",
              "non hostile    4525\n",
              "vulgar         2020\n",
              "defamation     3216\n",
              "dtype: int64"
            ]
          },
          "metadata": {},
          "execution_count": 91
        }
      ]
    },
    {
      "cell_type": "code",
      "source": [
        "print('# of Hindi Comments with English text:')\n",
        "hin_df['text'][hin_df['text'].apply(lambda x: re.search('[a-zA-Z]', x) != None)].count()"
      ],
      "metadata": {
        "id": "b99TuHp9LYoI",
        "colab": {
          "base_uri": "https://localhost:8080/"
        },
        "outputId": "130b3cb4-d950-4f04-c23c-a17d25de0af3"
      },
      "execution_count": 27,
      "outputs": [
        {
          "output_type": "stream",
          "name": "stdout",
          "text": [
            "# of Hindi Comments with English text:\n"
          ]
        },
        {
          "output_type": "execute_result",
          "data": {
            "text/plain": [
              "0"
            ]
          },
          "metadata": {},
          "execution_count": 27
        }
      ]
    },
    {
      "cell_type": "code",
      "source": [
        "print(\"Hindi dataset is multi-label.\")\n",
        "hin_df_class_count = hin_df.drop(['text', 'label'], axis=1).sum(axis=0)\n",
        "hin_df_class_count"
      ],
      "metadata": {
        "colab": {
          "base_uri": "https://localhost:8080/"
        },
        "id": "FqsOHaT8Aj8j",
        "outputId": "c51b5974-9c13-4d3c-c7c9-6bd611ce723a"
      },
      "execution_count": 28,
      "outputs": [
        {
          "output_type": "stream",
          "name": "stdout",
          "text": [
            "Hindi dataset is multi-label.\n"
          ]
        },
        {
          "output_type": "execute_result",
          "data": {
            "text/plain": [
              "hate           5508\n",
              "aggression     4118\n",
              "non hostile    4499\n",
              "vulgar         2020\n",
              "defamation     3195\n",
              "dtype: int64"
            ]
          },
          "metadata": {},
          "execution_count": 28
        }
      ]
    },
    {
      "cell_type": "code",
      "source": [
        "# prompt: now save the updated csv\n",
        "\n",
        "hin_df.to_excel('english removed data.xlsx', index=False)\n"
      ],
      "metadata": {
        "id": "-MlKgt_3B_s5"
      },
      "execution_count": null,
      "outputs": []
    },
    {
      "cell_type": "code",
      "source": [
        "hin_text_len = hin_df['text'].apply(lambda x: len(str(x))).value_counts()\n",
        "hin_text_min_len = hin_text_len.index.min()\n",
        "hin_text_max_len = hin_text_len.index.max()\n",
        "print(\"Min hindi text length: \", hin_text_min_len)\n",
        "print(\"Max hindi text length: \", hin_text_max_len)"
      ],
      "metadata": {
        "colab": {
          "base_uri": "https://localhost:8080/"
        },
        "id": "cCS-BJUvBDqS",
        "outputId": "23d4fe83-5b82-4108-f07e-40c886377766"
      },
      "execution_count": 29,
      "outputs": [
        {
          "output_type": "stream",
          "name": "stdout",
          "text": [
            "Min hindi text length:  8\n",
            "Max hindi text length:  1466\n"
          ]
        }
      ]
    },
    {
      "cell_type": "code",
      "source": [
        "plt.figure(figsize=(12, 5))\n",
        "plt.bar(hin_text_len.index, hin_text_len.values)\n",
        "plt.xlabel('Text Length')\n",
        "plt.ylabel('# of Texts')\n",
        "plt.xticks([x for x in range(0, hin_text_max_len+1, 200)])\n",
        "plt.tick_params(bottom=False)\n",
        "plt.title('Hindi Text Lengths and Their Frequencies')"
      ],
      "metadata": {
        "colab": {
          "base_uri": "https://localhost:8080/",
          "height": 474
        },
        "id": "764Y73QlBMVi",
        "outputId": "2dc36a16-baad-493e-f35b-892b2dfa32b3"
      },
      "execution_count": 30,
      "outputs": [
        {
          "output_type": "execute_result",
          "data": {
            "text/plain": [
              "Text(0.5, 1.0, 'Hindi Text Lengths and Their Frequencies')"
            ]
          },
          "metadata": {},
          "execution_count": 30
        },
        {
          "output_type": "display_data",
          "data": {
            "text/plain": [
              "<Figure size 1200x500 with 1 Axes>"
            ],
            "image/png": "[encoded data removed]"
          },
          "metadata": {}
        }
      ]
    },
    {
      "cell_type": "code",
      "source": [
        "# prompt: split the text which greater in length than 400text length into 200 text length and create new rows with left over spilted data\n",
        "\n",
        "def split_text(text):\n",
        "  if len(text) > 400:\n",
        "    first_part = text[:200]\n",
        "    second_part = text[200:]\n",
        "    return [first_part, second_part]\n",
        "  else:\n",
        "    return [text]\n",
        "\n",
        "hin_df['text'] = hin_df['text'].apply(split_text)\n",
        "hin_df = hin_df.explode('text')\n",
        "hin_df.reset_index(drop=True, inplace=True)\n"
      ],
      "metadata": {
        "id": "tb1-PqjABU9y"
      },
      "execution_count": 31,
      "outputs": []
    },
    {
      "cell_type": "code",
      "source": [
        "# prompt: now save the updated csv\n",
        "\n",
        "hin_df.to_excel('text length 150 2.0.xlsx', index=False)"
      ],
      "metadata": {
        "id": "aKtkv4mHB0LJ"
      },
      "execution_count": 32,
      "outputs": []
    },
    {
      "cell_type": "code",
      "source": [
        "# prompt: now load the new dataset\n",
        "\n",
        "hin_df = pd.read_excel('/content/text length 150 2.0.xlsx')"
      ],
      "metadata": {
        "id": "EisMj465Sp7u"
      },
      "execution_count": 34,
      "outputs": []
    },
    {
      "cell_type": "code",
      "source": [
        "# prompt: now save the updated csv\n",
        "\n",
        "hin_df.to_excel('text length 150.xlsx', index=False)"
      ],
      "metadata": {
        "id": "wAi3OiF9Cwua"
      },
      "execution_count": null,
      "outputs": []
    },
    {
      "cell_type": "code",
      "source": [
        "hin_text_len = hin_df['text'].apply(lambda x: len(str(x))).value_counts()\n",
        "hin_text_min_len = hin_text_len.index.min()\n",
        "hin_text_max_len = hin_text_len.index.max()\n",
        "print(\"Min hindi text length: \", hin_text_min_len)\n",
        "print(\"Max hindi text length: \", hin_text_max_len)"
      ],
      "metadata": {
        "colab": {
          "base_uri": "https://localhost:8080/"
        },
        "id": "csM5fWvjC4BB",
        "outputId": "130d31f9-e09c-4942-d220-53f5694558ac"
      },
      "execution_count": 35,
      "outputs": [
        {
          "output_type": "stream",
          "name": "stdout",
          "text": [
            "Min hindi text length:  8\n",
            "Max hindi text length:  1266\n"
          ]
        }
      ]
    },
    {
      "cell_type": "code",
      "source": [
        "print(\"Hindi dataset is multi-label.\")\n",
        "hin_df_class_count = hin_df.drop(['text', 'label'], axis=1).sum(axis=0)\n",
        "hin_df_class_count"
      ],
      "metadata": {
        "colab": {
          "base_uri": "https://localhost:8080/"
        },
        "id": "oCKf7rn1S2P1",
        "outputId": "4e4d5380-1305-494b-e135-9f2763f19446"
      },
      "execution_count": 37,
      "outputs": [
        {
          "output_type": "stream",
          "name": "stdout",
          "text": [
            "Hindi dataset is multi-label.\n"
          ]
        },
        {
          "output_type": "execute_result",
          "data": {
            "text/plain": [
              "hate           5528\n",
              "aggression     4126\n",
              "non hostile    4530\n",
              "vulgar         2020\n",
              "defamation     3218\n",
              "dtype: int64"
            ]
          },
          "metadata": {},
          "execution_count": 37
        }
      ]
    },
    {
      "cell_type": "code",
      "source": [
        "plt.figure(figsize=(12, 5))\n",
        "plt.bar(hin_text_len.index, hin_text_len.values)\n",
        "plt.xlabel('Text Length')\n",
        "plt.ylabel('# of Texts')\n",
        "plt.xticks([x for x in range(0, hin_text_max_len+1, 200)])\n",
        "plt.tick_params(bottom=False)\n",
        "plt.title('Hindi Text Lengths and Their Frequencies')"
      ],
      "metadata": {
        "colab": {
          "base_uri": "https://localhost:8080/",
          "height": 474
        },
        "id": "kzYll2uPDAw5",
        "outputId": "1b78b5eb-f9a6-4718-e8a6-a0ced054801c"
      },
      "execution_count": 36,
      "outputs": [
        {
          "output_type": "execute_result",
          "data": {
            "text/plain": [
              "Text(0.5, 1.0, 'Hindi Text Lengths and Their Frequencies')"
            ]
          },
          "metadata": {},
          "execution_count": 36
        },
        {
          "output_type": "display_data",
          "data": {
            "text/plain": [
              "<Figure size 1200x500 with 1 Axes>"
            ],
            "image/png": "[encoded data removed]"
          },
          "metadata": {}
        }
      ]
    },
    {
      "cell_type": "code",
      "source": [
        "# prompt: now split the hindi text data into word count of 150 words text length\n",
        "\n",
        "max_words = 150\n",
        "hin_df[\"word_count\"] = hin_df[\"text\"].apply(lambda x: len(str(x).split(\" \")))\n",
        "hin_df = hin_df[hin_df[\"word_count\"] <= max_words]\n",
        "hin_df.drop(columns=[\"word_count\"], inplace=True)\n"
      ],
      "metadata": {
        "id": "zWSFFIHXdqx7",
        "colab": {
          "base_uri": "https://localhost:8080/"
        },
        "outputId": "de4ea3c7-7dc9-4f98-d7bd-fcf30817a8de"
      },
      "execution_count": 38,
      "outputs": [
        {
          "output_type": "stream",
          "name": "stderr",
          "text": [
            "<ipython-input-38-c4ae1d404114>:6: SettingWithCopyWarning: \n",
            "A value is trying to be set on a copy of a slice from a DataFrame\n",
            "\n",
            "See the caveats in the documentation: https://pandas.pydata.org/pandas-docs/stable/user_guide/indexing.html#returning-a-view-versus-a-copy\n",
            "  hin_df.drop(columns=[\"word_count\"], inplace=True)\n"
          ]
        }
      ]
    },
    {
      "cell_type": "code",
      "source": [
        "# prompt: now save the updated csv\n",
        "\n",
        "hin_df.to_excel('new sliced update.xlsx', index=False)\n"
      ],
      "metadata": {
        "id": "qsGBTEhyRVs3"
      },
      "execution_count": 40,
      "outputs": []
    },
    {
      "cell_type": "code",
      "source": [
        "# prompt: now load the new dataset\n",
        "\n",
        "hin_df = pd.read_excel('/content/new sliced update.xlsx')\n"
      ],
      "metadata": {
        "id": "kc_JVy5keVGj"
      },
      "execution_count": 56,
      "outputs": []
    },
    {
      "cell_type": "code",
      "source": [
        "hin_text_len = hin_df['text'].apply(lambda x: len(str(x))).value_counts()\n",
        "hin_text_min_len = hin_text_len.index.min()\n",
        "hin_text_max_len = hin_text_len.index.max()\n",
        "print(\"Min hindi text length: \", hin_text_min_len)\n",
        "print(\"Max hindi text length: \", hin_text_max_len)"
      ],
      "metadata": {
        "id": "gc8Kumf4efoK",
        "colab": {
          "base_uri": "https://localhost:8080/"
        },
        "outputId": "3460eab7-c7c4-463d-c418-22f0e214482c"
      },
      "execution_count": 57,
      "outputs": [
        {
          "output_type": "stream",
          "name": "stdout",
          "text": [
            "Min hindi text length:  8\n",
            "Max hindi text length:  721\n"
          ]
        }
      ]
    },
    {
      "cell_type": "code",
      "source": [
        "hin_df[hin_df.drop(['text', 'label'], axis=1).sum(axis=1) == 0]"
      ],
      "metadata": {
        "colab": {
          "base_uri": "https://localhost:8080/",
          "height": 53
        },
        "id": "TajimjRU3crM",
        "outputId": "c9eb1888-19cd-453b-a6d8-ab983fc1964a"
      },
      "execution_count": 58,
      "outputs": [
        {
          "output_type": "execute_result",
          "data": {
            "text/plain": [
              "Empty DataFrame\n",
              "Columns: [text, label, hate, aggression, non hostile, vulgar, defamation]\n",
              "Index: []"
            ],
            "text/html": [
              "\n",
              "  <div id=\"df-5de33556-d52b-4f54-9281-d4eef2351ea8\" class=\"colab-df-container\">\n",
              "    <div>\n",
              "<style scoped>\n",
              "    .dataframe tbody tr th:only-of-type {\n",
              "        vertical-align: middle;\n",
              "    }\n",
              "\n",
              "    .dataframe tbody tr th {\n",
              "        vertical-align: top;\n",
              "    }\n",
              "\n",
              "    .dataframe thead th {\n",
              "        text-align: right;\n",
              "    }\n",
              "</style>\n",
              "<table border=\"1\" class=\"dataframe\">\n",
              "  <thead>\n",
              "    <tr style=\"text-align: right;\">\n",
              "      <th></th>\n",
              "      <th>text</th>\n",
              "      <th>label</th>\n",
              "      <th>hate</th>\n",
              "      <th>aggression</th>\n",
              "      <th>non hostile</th>\n",
              "      <th>vulgar</th>\n",
              "      <th>defamation</th>\n",
              "    </tr>\n",
              "  </thead>\n",
              "  <tbody>\n",
              "  </tbody>\n",
              "</table>\n",
              "</div>\n",
              "    <div class=\"colab-df-buttons\">\n",
              "\n",
              "  <div class=\"colab-df-container\">\n",
              "    <button class=\"colab-df-convert\" onclick=\"convertToInteractive('df-5de33556-d52b-4f54-9281-d4eef2351ea8')\"\n",
              "            title=\"Convert this dataframe to an interactive table.\"\n",
              "            style=\"display:none;\">\n",
              "\n",
              "  <svg xmlns=\"http://www.w3.org/2000/svg\" height=\"24px\" viewBox=\"0 -960 960 960\">\n",
              "    <path d=\"M120-120v-720h720v720H120Zm60-500h600v-160H180v160Zm220 220h160v-160H400v160Zm0 220h160v-160H400v160ZM180-400h160v-160H180v160Zm440 0h160v-160H620v160ZM180-180h160v-160H180v160Zm440 0h160v-160H620v160Z\"/>\n",
              "  </svg>\n",
              "    </button>\n",
              "\n",
              "  <style>\n",
              "    .colab-df-container {\n",
              "      display:flex;\n",
              "      gap: 12px;\n",
              "    }\n",
              "\n",
              "    .colab-df-convert {\n",
              "      background-color: #E8F0FE;\n",
              "      border: none;\n",
              "      border-radius: 50%;\n",
              "      cursor: pointer;\n",
              "      display: none;\n",
              "      fill: #1967D2;\n",
              "      height: 32px;\n",
              "      padding: 0 0 0 0;\n",
              "      width: 32px;\n",
              "    }\n",
              "\n",
              "    .colab-df-convert:hover {\n",
              "      background-color: #E2EBFA;\n",
              "      box-shadow: 0px 1px 2px rgba(60, 64, 67, 0.3), 0px 1px 3px 1px rgba(60, 64, 67, 0.15);\n",
              "      fill: #174EA6;\n",
              "    }\n",
              "\n",
              "    .colab-df-buttons div {\n",
              "      margin-bottom: 4px;\n",
              "    }\n",
              "\n",
              "    [theme=dark] .colab-df-convert {\n",
              "      background-color: #3B4455;\n",
              "      fill: #D2E3FC;\n",
              "    }\n",
              "\n",
              "    [theme=dark] .colab-df-convert:hover {\n",
              "      background-color: #434B5C;\n",
              "      box-shadow: 0px 1px 3px 1px rgba(0, 0, 0, 0.15);\n",
              "      filter: drop-shadow(0px 1px 2px rgba(0, 0, 0, 0.3));\n",
              "      fill: #FFFFFF;\n",
              "    }\n",
              "  </style>\n",
              "\n",
              "    <script>\n",
              "      const buttonEl =\n",
              "        document.querySelector('#df-5de33556-d52b-4f54-9281-d4eef2351ea8 button.colab-df-convert');\n",
              "      buttonEl.style.display =\n",
              "        google.colab.kernel.accessAllowed ? 'block' : 'none';\n",
              "\n",
              "      async function convertToInteractive(key) {\n",
              "        const element = document.querySelector('#df-5de33556-d52b-4f54-9281-d4eef2351ea8');\n",
              "        const dataTable =\n",
              "          await google.colab.kernel.invokeFunction('convertToInteractive',\n",
              "                                                    [key], {});\n",
              "        if (!dataTable) return;\n",
              "\n",
              "        const docLinkHtml = 'Like what you see? Visit the ' +\n",
              "          '<a target=\"_blank\" href=https://colab.research.google.com/notebooks/data_table.ipynb>data table notebook</a>'\n",
              "          + ' to learn more about interactive tables.';\n",
              "        element.innerHTML = '';\n",
              "        dataTable['output_type'] = 'display_data';\n",
              "        await google.colab.output.renderOutput(dataTable, element);\n",
              "        const docLink = document.createElement('div');\n",
              "        docLink.innerHTML = docLinkHtml;\n",
              "        element.appendChild(docLink);\n",
              "      }\n",
              "    </script>\n",
              "  </div>\n",
              "\n",
              "\n",
              "    </div>\n",
              "  </div>\n"
            ],
            "application/vnd.google.colaboratory.intrinsic+json": {
              "type": "dataframe",
              "repr_error": "Out of range float values are not JSON compliant: nan"
            }
          },
          "metadata": {},
          "execution_count": 58
        }
      ]
    },
    {
      "cell_type": "code",
      "source": [
        "print('# of not-hate Hindi comments that are classified into other categories:')\n",
        "hin_df['text'][hin_df.drop(['text', 'label'], axis=1).apply(lambda x: x.sum() > 1 and x['non hostile'] == 1, axis=1)].count()\n"
      ],
      "metadata": {
        "colab": {
          "base_uri": "https://localhost:8080/"
        },
        "id": "grxcJP-u3hFs",
        "outputId": "2ecf94af-88f4-4802-c8fb-def44acaf9d5"
      },
      "execution_count": 59,
      "outputs": [
        {
          "output_type": "stream",
          "name": "stdout",
          "text": [
            "# of not-hate Hindi comments that are classified into other categories:\n"
          ]
        },
        {
          "output_type": "execute_result",
          "data": {
            "text/plain": [
              "0"
            ]
          },
          "metadata": {},
          "execution_count": 59
        }
      ]
    },
    {
      "cell_type": "code",
      "source": [
        "print(\"Hindi dataset is multi-label.\")\n",
        "hin_df_class_count = hin_df.drop(['text', 'label'], axis=1).sum(axis=0)\n",
        "hin_df_class_count"
      ],
      "metadata": {
        "colab": {
          "base_uri": "https://localhost:8080/"
        },
        "id": "1NoqJq813mbU",
        "outputId": "dcb8e278-9d1f-4196-c830-8e1829fd2412"
      },
      "execution_count": 61,
      "outputs": [
        {
          "output_type": "stream",
          "name": "stdout",
          "text": [
            "Hindi dataset is multi-label.\n"
          ]
        },
        {
          "output_type": "execute_result",
          "data": {
            "text/plain": [
              "hate           5527\n",
              "aggression     4125\n",
              "non hostile    4526\n",
              "vulgar         2020\n",
              "defamation     3216\n",
              "dtype: int64"
            ]
          },
          "metadata": {},
          "execution_count": 61
        }
      ]
    },
    {
      "cell_type": "code",
      "source": [
        "# prompt: now slice more text length which is more than 150 characters\n",
        "\n",
        "hin_df = hin_df[hin_df[\"text\"].apply(lambda x: len(str(x).split(\" \"))) <= 150]\n",
        "hin_df.to_csv('sliced dataframe newc.csv', index=False)\n"
      ],
      "metadata": {
        "id": "J67JfrXIelwy"
      },
      "execution_count": 62,
      "outputs": []
    },
    {
      "cell_type": "code",
      "source": [
        "# prompt: now load the new dataset\n",
        "\n",
        "hin_df = pd.read_csv('/content/sliced dataframe newc.csv')"
      ],
      "metadata": {
        "id": "V6HUjxpmVnxk"
      },
      "execution_count": 66,
      "outputs": []
    },
    {
      "cell_type": "code",
      "source": [
        "print(\"Hindi dataset is multi-label.\")\n",
        "hin_df_class_count = hin_df.drop(['text', 'label'], axis=1).sum(axis=0)\n",
        "hin_df_class_count"
      ],
      "metadata": {
        "colab": {
          "base_uri": "https://localhost:8080/"
        },
        "id": "ul-EJAWHTaPt",
        "outputId": "1e7df9fa-6981-4f17-c066-b064a9cb68fb"
      },
      "execution_count": 67,
      "outputs": [
        {
          "output_type": "stream",
          "name": "stdout",
          "text": [
            "Hindi dataset is multi-label.\n"
          ]
        },
        {
          "output_type": "execute_result",
          "data": {
            "text/plain": [
              "hate           5527\n",
              "aggression     4125\n",
              "non hostile    4526\n",
              "vulgar         2020\n",
              "defamation     3216\n",
              "dtype: int64"
            ]
          },
          "metadata": {},
          "execution_count": 67
        }
      ]
    },
    {
      "cell_type": "code",
      "source": [
        "hin_text_len = hin_df['text'].apply(lambda x: len(str(x))).value_counts()\n",
        "hin_text_min_len = hin_text_len.index.min()\n",
        "hin_text_max_len = hin_text_len.index.max()\n",
        "print(\"Min hindi text length: \", hin_text_min_len)\n",
        "print(\"Max hindi text length: \", hin_text_max_len)"
      ],
      "metadata": {
        "id": "qr_s5OPZfGOL",
        "colab": {
          "base_uri": "https://localhost:8080/"
        },
        "outputId": "7ca14798-b61e-419d-d942-c988999b022b"
      },
      "execution_count": 68,
      "outputs": [
        {
          "output_type": "stream",
          "name": "stdout",
          "text": [
            "Min hindi text length:  8\n",
            "Max hindi text length:  721\n"
          ]
        }
      ]
    },
    {
      "cell_type": "code",
      "source": [
        "print(hin_df.columns.tolist())"
      ],
      "metadata": {
        "id": "5uUm-fWXfeKb",
        "colab": {
          "base_uri": "https://localhost:8080/"
        },
        "outputId": "0a550f18-2afa-474b-a69b-2a7b99b28f2e"
      },
      "execution_count": 69,
      "outputs": [
        {
          "output_type": "stream",
          "name": "stdout",
          "text": [
            "['text', 'label', 'hate', 'aggression', 'non hostile', 'vulgar', 'defamation']\n"
          ]
        }
      ]
    },
    {
      "cell_type": "code",
      "source": [
        "print(\"Hindi dataset is multi-label.\")\n",
        "hin_df_class_count = hin_df.drop(['text', 'label'], axis=1).sum(axis=0)\n",
        "hin_df_class_count"
      ],
      "metadata": {
        "id": "KUEseu4efisk",
        "colab": {
          "base_uri": "https://localhost:8080/"
        },
        "outputId": "6be557e0-01d1-4f53-cf8c-575d5e8320b1"
      },
      "execution_count": 70,
      "outputs": [
        {
          "output_type": "stream",
          "name": "stdout",
          "text": [
            "Hindi dataset is multi-label.\n"
          ]
        },
        {
          "output_type": "execute_result",
          "data": {
            "text/plain": [
              "hate           5527\n",
              "aggression     4125\n",
              "non hostile    4526\n",
              "vulgar         2020\n",
              "defamation     3216\n",
              "dtype: int64"
            ]
          },
          "metadata": {},
          "execution_count": 70
        }
      ]
    },
    {
      "cell_type": "code",
      "source": [
        "# prompt: now slice more text length which is more than 150 characters\n",
        "\n",
        "max_words = 180\n",
        "hin_df[\"word_count\"] = hin_df[\"text\"].apply(lambda x: len(str(x).split(\" \")))\n",
        "hin_df = hin_df[hin_df[\"word_count\"] <= max_words]\n",
        "hin_df.drop(columns=[\"word_count\"], inplace=True)"
      ],
      "metadata": {
        "id": "j2fiKowCfue0"
      },
      "execution_count": 71,
      "outputs": []
    },
    {
      "cell_type": "code",
      "source": [
        "hin_text_len = hin_df['text'].apply(lambda x: len(str(x))).value_counts()\n",
        "hin_text_min_len = hin_text_len.index.min()\n",
        "hin_text_max_len = hin_text_len.index.max()\n",
        "print(\"Min hindi text length: \", hin_text_min_len)\n",
        "print(\"Max hindi text length: \", hin_text_max_len)"
      ],
      "metadata": {
        "colab": {
          "base_uri": "https://localhost:8080/"
        },
        "id": "-wFp81YoT6I0",
        "outputId": "ff96e02f-8402-4186-ac9d-a52d0dca263c"
      },
      "execution_count": 72,
      "outputs": [
        {
          "output_type": "stream",
          "name": "stdout",
          "text": [
            "Min hindi text length:  8\n",
            "Max hindi text length:  721\n"
          ]
        }
      ]
    },
    {
      "cell_type": "code",
      "source": [
        "print(\"Hindi dataset is multi-label.\")\n",
        "hin_df_class_count = hin_df.drop(['text', 'label'], axis=1).sum(axis=0)\n",
        "hin_df_class_count"
      ],
      "metadata": {
        "colab": {
          "base_uri": "https://localhost:8080/"
        },
        "id": "Pl9AVgFeT3Zd",
        "outputId": "27f68df3-d3c6-4244-9665-da5dfe621f79"
      },
      "execution_count": 73,
      "outputs": [
        {
          "output_type": "stream",
          "name": "stdout",
          "text": [
            "Hindi dataset is multi-label.\n"
          ]
        },
        {
          "output_type": "execute_result",
          "data": {
            "text/plain": [
              "hate           5527\n",
              "aggression     4125\n",
              "non hostile    4526\n",
              "vulgar         2020\n",
              "defamation     3216\n",
              "dtype: int64"
            ]
          },
          "metadata": {},
          "execution_count": 73
        }
      ]
    },
    {
      "cell_type": "code",
      "source": [
        "hin_text_len = hin_df['text'].apply(lambda x: len(str(x))).value_counts()\n",
        "hin_text_min_len = hin_text_len.index.min()\n",
        "hin_text_max_len = hin_text_len.index.max()\n",
        "print(\"Min hindi text length: \", hin_text_min_len)\n",
        "print(\"Max hindi text length: \", hin_text_max_len)"
      ],
      "metadata": {
        "id": "gH11rONPf1EK",
        "colab": {
          "base_uri": "https://localhost:8080/"
        },
        "outputId": "1f30d6f4-ff17-4104-896a-28d01608f712"
      },
      "execution_count": 54,
      "outputs": [
        {
          "output_type": "stream",
          "name": "stdout",
          "text": [
            "Min hindi text length:  8\n",
            "Max hindi text length:  722\n"
          ]
        }
      ]
    },
    {
      "cell_type": "code",
      "source": [
        "# prompt: list the cells which have max hindi text length\n",
        "\n",
        "max_length = hin_df['text'].apply(lambda x: len(str(x))).max()\n",
        "hin_df[hin_df['text'].apply(lambda x: len(str(x))) == max_length]\n"
      ],
      "metadata": {
        "id": "zcs_bRaIf7Kr",
        "colab": {
          "base_uri": "https://localhost:8080/",
          "height": 81
        },
        "outputId": "80831bd2-3d43-4fc2-c6ef-6db5f009a1bf"
      },
      "execution_count": 74,
      "outputs": [
        {
          "output_type": "execute_result",
          "data": {
            "text/plain": [
              "                                                   text        label  hate  \\\n",
              "4823   अंदाजा लगा सकते हैं अपने आप को जनता का सेवक औ...  non hostile     0   \n",
              "\n",
              "      aggression  non hostile  vulgar  defamation  \n",
              "4823           0            1       0           0  "
            ],
            "text/html": [
              "\n",
              "  <div id=\"df-98ef49cb-9a9c-4b19-b9db-636dbad7c893\" class=\"colab-df-container\">\n",
              "    <div>\n",
              "<style scoped>\n",
              "    .dataframe tbody tr th:only-of-type {\n",
              "        vertical-align: middle;\n",
              "    }\n",
              "\n",
              "    .dataframe tbody tr th {\n",
              "        vertical-align: top;\n",
              "    }\n",
              "\n",
              "    .dataframe thead th {\n",
              "        text-align: right;\n",
              "    }\n",
              "</style>\n",
              "<table border=\"1\" class=\"dataframe\">\n",
              "  <thead>\n",
              "    <tr style=\"text-align: right;\">\n",
              "      <th></th>\n",
              "      <th>text</th>\n",
              "      <th>label</th>\n",
              "      <th>hate</th>\n",
              "      <th>aggression</th>\n",
              "      <th>non hostile</th>\n",
              "      <th>vulgar</th>\n",
              "      <th>defamation</th>\n",
              "    </tr>\n",
              "  </thead>\n",
              "  <tbody>\n",
              "    <tr>\n",
              "      <th>4823</th>\n",
              "      <td>अंदाजा लगा सकते हैं अपने आप को जनता का सेवक औ...</td>\n",
              "      <td>non hostile</td>\n",
              "      <td>0</td>\n",
              "      <td>0</td>\n",
              "      <td>1</td>\n",
              "      <td>0</td>\n",
              "      <td>0</td>\n",
              "    </tr>\n",
              "  </tbody>\n",
              "</table>\n",
              "</div>\n",
              "    <div class=\"colab-df-buttons\">\n",
              "\n",
              "  <div class=\"colab-df-container\">\n",
              "    <button class=\"colab-df-convert\" onclick=\"convertToInteractive('df-98ef49cb-9a9c-4b19-b9db-636dbad7c893')\"\n",
              "            title=\"Convert this dataframe to an interactive table.\"\n",
              "            style=\"display:none;\">\n",
              "\n",
              "  <svg xmlns=\"http://www.w3.org/2000/svg\" height=\"24px\" viewBox=\"0 -960 960 960\">\n",
              "    <path d=\"M120-120v-720h720v720H120Zm60-500h600v-160H180v160Zm220 220h160v-160H400v160Zm0 220h160v-160H400v160ZM180-400h160v-160H180v160Zm440 0h160v-160H620v160ZM180-180h160v-160H180v160Zm440 0h160v-160H620v160Z\"/>\n",
              "  </svg>\n",
              "    </button>\n",
              "\n",
              "  <style>\n",
              "    .colab-df-container {\n",
              "      display:flex;\n",
              "      gap: 12px;\n",
              "    }\n",
              "\n",
              "    .colab-df-convert {\n",
              "      background-color: #E8F0FE;\n",
              "      border: none;\n",
              "      border-radius: 50%;\n",
              "      cursor: pointer;\n",
              "      display: none;\n",
              "      fill: #1967D2;\n",
              "      height: 32px;\n",
              "      padding: 0 0 0 0;\n",
              "      width: 32px;\n",
              "    }\n",
              "\n",
              "    .colab-df-convert:hover {\n",
              "      background-color: #E2EBFA;\n",
              "      box-shadow: 0px 1px 2px rgba(60, 64, 67, 0.3), 0px 1px 3px 1px rgba(60, 64, 67, 0.15);\n",
              "      fill: #174EA6;\n",
              "    }\n",
              "\n",
              "    .colab-df-buttons div {\n",
              "      margin-bottom: 4px;\n",
              "    }\n",
              "\n",
              "    [theme=dark] .colab-df-convert {\n",
              "      background-color: #3B4455;\n",
              "      fill: #D2E3FC;\n",
              "    }\n",
              "\n",
              "    [theme=dark] .colab-df-convert:hover {\n",
              "      background-color: #434B5C;\n",
              "      box-shadow: 0px 1px 3px 1px rgba(0, 0, 0, 0.15);\n",
              "      filter: drop-shadow(0px 1px 2px rgba(0, 0, 0, 0.3));\n",
              "      fill: #FFFFFF;\n",
              "    }\n",
              "  </style>\n",
              "\n",
              "    <script>\n",
              "      const buttonEl =\n",
              "        document.querySelector('#df-98ef49cb-9a9c-4b19-b9db-636dbad7c893 button.colab-df-convert');\n",
              "      buttonEl.style.display =\n",
              "        google.colab.kernel.accessAllowed ? 'block' : 'none';\n",
              "\n",
              "      async function convertToInteractive(key) {\n",
              "        const element = document.querySelector('#df-98ef49cb-9a9c-4b19-b9db-636dbad7c893');\n",
              "        const dataTable =\n",
              "          await google.colab.kernel.invokeFunction('convertToInteractive',\n",
              "                                                    [key], {});\n",
              "        if (!dataTable) return;\n",
              "\n",
              "        const docLinkHtml = 'Like what you see? Visit the ' +\n",
              "          '<a target=\"_blank\" href=https://colab.research.google.com/notebooks/data_table.ipynb>data table notebook</a>'\n",
              "          + ' to learn more about interactive tables.';\n",
              "        element.innerHTML = '';\n",
              "        dataTable['output_type'] = 'display_data';\n",
              "        await google.colab.output.renderOutput(dataTable, element);\n",
              "        const docLink = document.createElement('div');\n",
              "        docLink.innerHTML = docLinkHtml;\n",
              "        element.appendChild(docLink);\n",
              "      }\n",
              "    </script>\n",
              "  </div>\n",
              "\n",
              "\n",
              "    </div>\n",
              "  </div>\n"
            ],
            "application/vnd.google.colaboratory.intrinsic+json": {
              "type": "dataframe",
              "summary": "{\n  \"name\": \"hin_df[hin_df['text']\",\n  \"rows\": 1,\n  \"fields\": [\n    {\n      \"column\": \"text\",\n      \"properties\": {\n        \"dtype\": \"string\",\n        \"num_unique_values\": 1,\n        \"samples\": [\n          \" \\u0905\\u0902\\u0926\\u093e\\u091c\\u093e \\u0932\\u0917\\u093e \\u0938\\u0915\\u0924\\u0947 \\u0939\\u0948\\u0902 \\u0905\\u092a\\u0928\\u0947 \\u0906\\u092a \\u0915\\u094b \\u091c\\u0928\\u0924\\u093e \\u0915\\u093e \\u0938\\u0947\\u0935\\u0915 \\u0914\\u0930 \\u091a\\u094c\\u0915\\u0940\\u0926\\u093e\\u0930 \\u0915\\u0939\\u0928\\u0947 \\u0935\\u093e\\u0932\\u093e \\u0915\\u093f\\u0924\\u0928\\u093e \\u0935\\u093f\\u0932\\u093e\\u0938\\u093f\\u0924\\u093e \\u092a\\u0942\\u0930\\u094d\\u0923 \\u091c\\u0940\\u0935\\u0928 \\u091c\\u0940\\u0928\\u0947 \\u0915\\u093e \\u0906\\u0926\\u0940 \\u0939\\u094b \\u091a\\u0941\\u0915\\u093e \\u0939\\u0948\\u0964\\u0914\\u0930 \\u092f\\u0939 \\u0935\\u093f\\u0936\\u094d\\u0935\\u0938\\u094d\\u0924\\u0930\\u0940\\u092f \\u0938\\u0941\\u0935\\u093f\\u0927\\u093e\\u0913\\u0902 \\u0938\\u0947 \\u0932\\u0948\\u0938 \\u090f\\u092f\\u0930\\u0915\\u094d\\u0930\\u093e\\u092b\\u094d\\u091f \\u0905\\u0917\\u0938\\u094d\\u0924 \\u092f\\u093e \\u0938\\u093f\\u0924\\u0902\\u092c\\u0930 \\u092e\\u093e\\u0939 \\u092e\\u0947\\u0902 \\u092d\\u093e\\u0930\\u0924 \\u0906 \\u091c\\u093e\\u090f\\u0917\\u093e \\u092c\\u0938 \\u092b\\u093f\\u0930 \\u092e\\u094b\\u0926\\u0940 \\u091c\\u0940 \\u0915\\u0947 \\u0935\\u093f\\u0926\\u0947\\u0936 \\u0926\\u094c\\u0930\\u0947 \\u091a\\u093e\\u0932\\u0942\\u0964\\n\\n\\u0910\\u0938\\u0940 \\u0924\\u092e\\u093e\\u092e \\u0906\\u0927\\u0941\\u0928\\u093f\\u0915 \\u0938\\u0941\\u0935\\u093f\\u0927\\u093e \\u0935\\u094d\\u092f\\u0935\\u0938\\u094d\\u0925\\u093e\\u0913\\u0902 \\u0938\\u0947 \\u0932\\u0948\\u0938 \\u0910\\u0938\\u0947 2 \\u092c\\u094b\\u0907\\u0902\\u0917 \\u0935\\u0940\\u0935\\u0940\\u0906\\u0907\\u092a\\u0940 \\u090f\\u092f\\u0930\\u0915\\u094d\\u0930\\u093e\\u092b\\u094d\\u091f \\u0916\\u0930\\u0940\\u0926\\u0947 \\u091c\\u093e \\u0930\\u0939\\u0947 \\u0939\\u0948\\u0902 \\u091c\\u093f\\u0928\\u0915\\u0940 \\u0915\\u0940\\u092e\\u0924 \\u0932\\u0917\\u092d\\u0917 8458 \\u0915\\u0930\\u094b\\u0921\\u093c \\u0930\\u0942\\u092a\\u092f\\u093e \\u0939\\u0948!\\n\\n\\u092d\\u093e\\u0930\\u0924\\u0940\\u092f\\u094b\\u0902 \\u0924\\u0941\\u092e \\u091c\\u093f\\u0913 \\u092b\\u0915\\u0940\\u0930\\u0940 \\u092e\\u0947\\u0902 \\u0914\\u0930 \\u091a\\u094c\\u0915\\u0940\\u0926\\u093e\\u0930 \\u091c\\u093f\\u092f\\u0947\\u0917\\u093e \\u0936\\u093e\\u0928\\u094b\\u0936\\u094c\\u0915\\u0924 \\u092e\\u0947\\u0902 \\u092f\\u0939 \\u0938\\u0924\\u094d\\u092f \\u0939\\u0948 \\u092a\\u094d\\u0930\\u0927\\u093e\\u0928\\u092e\\u0902\\u0924\\u094d\\u0930\\u0940 \\u092c\\u0928\\u0928\\u0947 \\u0938\\u0947 \\u092a\\u0939\\u0932\\u0947 \\u0915\\u093f\\u0924\\u0928\\u093e \\u0918\\u095c\\u093f\\u092f\\u093e\\u0932 \\u0915\\u0940 \\u0906\\u0902\\u0938\\u0942 \\u092c\\u0939\\u093e\\u092f\\u093e \\u0925\\u093e \\u092e\\u094b\\u0926\\u0940 \\u0938\\u093e\\u0939\\u092c \\u0928\\u0947 \\u092a\\u0942\\u0930\\u093e \\u0930\\u093e\\u0937\\u094d\\u091f\\u094d\\u0930 \\u0915\\u094b \\u091d\\u0942\\u0920\\u0947 \\u0938\\u092a\\u0928\\u094b\\u0902 \\u092e\\u0947\\u0902 \\u092d\\u0930\\u094d\\u092e\\u093f\\u0924 \\u0915\\u0930\\u0935\\u093e\\u092f\\u093e \\u0925\\u093e \\u0938\\u093e\\u0939\\u092c \\u0928\\u0947 \\u0905\\u092c \\u0926\\u0947\\u0916\\u094b \\u0939\\u0915\\u0940\\u0915\\u0924 \\u0915\\u094d\\u092f\\u093e \\u0925\\u093e \\u0915\\u093f\\u0938 \\u0932\\u093f\\u090f \\u0917\\u0941\\u092e\\u0930\\u093e\\u0939 \\u0915\\u0930 \\u0930\\u0939\\u093e \\u0925\\u093e,,\\n\\n10 \\u0932\\u093e\\u0916 \\u0915\\u0940 \\u0938\\u0942\\u091f \\u092a\\u0939\\u0928 \\u0916\\u0941\\u0926 \\u0915\\u094b \\u092b\\u0915\\u0940\\u0930 \\u092c\\u0924\\u093e\\u0924\\u093e \\u0939\\u0948 \\u091c\\u093e\\u092a\\u093e\\u0928 \\u0915\\u093e \\u0916\\u093e\\u0928\\u093e \\u0914\\u0930 \\u092a\\u0940\\u0928\\u093e \\u0909\\u092a\\u092f\\u094b\\u0917 \\u0915\\u0930\\u0928\\u0947 \\u0935\\u093e\\u0932\\u0947 \\u0916\\u0941\\u0926 \\u0915\\u094b \\u092d\\u093f\\u0916\\u093e\\u0930\\u0940 \\u092c\\u0924\\u093e\\u0924\\u093e \\u0939\\u0948 \\u091c\\u093e\\u0917\\u094b-\\u092d\\u093e\\u0930\\u0924 \\u091c\\u093e\\u0917\\u094b\\u0964\\u0964\"\n        ],\n        \"semantic_type\": \"\",\n        \"description\": \"\"\n      }\n    },\n    {\n      \"column\": \"label\",\n      \"properties\": {\n        \"dtype\": \"string\",\n        \"num_unique_values\": 1,\n        \"samples\": [\n          \"non hostile\"\n        ],\n        \"semantic_type\": \"\",\n        \"description\": \"\"\n      }\n    },\n    {\n      \"column\": \"hate\",\n      \"properties\": {\n        \"dtype\": \"number\",\n        \"std\": null,\n        \"min\": 0,\n        \"max\": 0,\n        \"num_unique_values\": 1,\n        \"samples\": [\n          0\n        ],\n        \"semantic_type\": \"\",\n        \"description\": \"\"\n      }\n    },\n    {\n      \"column\": \"aggression\",\n      \"properties\": {\n        \"dtype\": \"number\",\n        \"std\": null,\n        \"min\": 0,\n        \"max\": 0,\n        \"num_unique_values\": 1,\n        \"samples\": [\n          0\n        ],\n        \"semantic_type\": \"\",\n        \"description\": \"\"\n      }\n    },\n    {\n      \"column\": \"non hostile\",\n      \"properties\": {\n        \"dtype\": \"number\",\n        \"std\": null,\n        \"min\": 1,\n        \"max\": 1,\n        \"num_unique_values\": 1,\n        \"samples\": [\n          1\n        ],\n        \"semantic_type\": \"\",\n        \"description\": \"\"\n      }\n    },\n    {\n      \"column\": \"vulgar\",\n      \"properties\": {\n        \"dtype\": \"number\",\n        \"std\": null,\n        \"min\": 0,\n        \"max\": 0,\n        \"num_unique_values\": 1,\n        \"samples\": [\n          0\n        ],\n        \"semantic_type\": \"\",\n        \"description\": \"\"\n      }\n    },\n    {\n      \"column\": \"defamation\",\n      \"properties\": {\n        \"dtype\": \"number\",\n        \"std\": null,\n        \"min\": 0,\n        \"max\": 0,\n        \"num_unique_values\": 1,\n        \"samples\": [\n          0\n        ],\n        \"semantic_type\": \"\",\n        \"description\": \"\"\n      }\n    }\n  ]\n}"
            }
          },
          "metadata": {},
          "execution_count": 74
        }
      ]
    }
  ]
}